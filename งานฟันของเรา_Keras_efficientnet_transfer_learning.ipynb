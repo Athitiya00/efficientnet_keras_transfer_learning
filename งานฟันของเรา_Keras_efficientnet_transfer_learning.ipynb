{
  "nbformat": 4,
  "nbformat_minor": 0,
  "metadata": {
    "colab": {
      "provenance": [],
      "collapsed_sections": [],
      "include_colab_link": true
    },
    "kernelspec": {
      "name": "python3",
      "display_name": "Python 3"
    },
    "accelerator": "GPU"
  },
  "cells": [
    {
      "cell_type": "markdown",
      "metadata": {
        "id": "view-in-github",
        "colab_type": "text"
      },
      "source": [
        "<a href=\"https://colab.research.google.com/github/Wanita-8943/efficientnet_keras_transfer_learning/blob/master/%E0%B8%87%E0%B8%B2%E0%B8%99%E0%B8%9F%E0%B8%B1%E0%B8%99%E0%B8%82%E0%B8%AD%E0%B8%87%E0%B9%80%E0%B8%A3%E0%B8%B2_Keras_efficientnet_transfer_learning.ipynb\" target=\"_parent\"><img src=\"https://colab.research.google.com/assets/colab-badge.svg\" alt=\"Open In Colab\"/></a>"
      ]
    },
    {
      "cell_type": "markdown",
      "metadata": {
        "id": "G7Evp4GOUt7Z"
      },
      "source": [
        "# [How to do Transfer learning with Efficientnet](https://www.dlology.com/blog/transfer-learning-with-efficientnet/) | DLology"
      ]
    },
    {
      "cell_type": "markdown",
      "metadata": {
        "id": "qYbI0TGpL6Jd"
      },
      "source": [
        "## Imports"
      ]
    },
    {
      "cell_type": "code",
      "source": [
        "!sudo update-alternatives --config python3 #เปลี่ยน version ของ python "
      ],
      "metadata": {
        "id": "ZAvgvW0kUpTp",
        "colab": {
          "base_uri": "https://localhost:8080/"
        },
        "outputId": "e1bd96b7-b3a4-4a2d-f175-47dcae886073"
      },
      "execution_count": 45,
      "outputs": [
        {
          "output_type": "stream",
          "name": "stdout",
          "text": [
            "There are 2 choices for the alternative python3 (providing /usr/bin/python3).\n",
            "\n",
            "  Selection    Path                Priority   Status\n",
            "------------------------------------------------------------\n",
            "  0            /usr/bin/python3.7   2         auto mode\n",
            "* 1            /usr/bin/python3.6   1         manual mode\n",
            "  2            /usr/bin/python3.7   2         manual mode\n",
            "\n",
            "Press <enter> to keep the current choice[*], or type selection number: 1\n"
          ]
        }
      ]
    },
    {
      "cell_type": "code",
      "source": [
        "!apt-get install python3-pip #ติดตั้ง pip"
      ],
      "metadata": {
        "colab": {
          "base_uri": "https://localhost:8080/"
        },
        "id": "dym90SmgVK1R",
        "outputId": "2881d690-0093-45b8-9a53-dd3452426801"
      },
      "execution_count": 46,
      "outputs": [
        {
          "output_type": "stream",
          "name": "stdout",
          "text": [
            "Reading package lists... Done\n",
            "Building dependency tree       \n",
            "Reading state information... Done\n",
            "python3-pip is already the newest version (9.0.1-2.3~ubuntu1.18.04.5).\n",
            "The following package was automatically installed and is no longer required:\n",
            "  libnvidia-common-460\n",
            "Use 'apt autoremove' to remove it.\n",
            "0 upgraded, 0 newly installed, 0 to remove and 20 not upgraded.\n"
          ]
        }
      ]
    },
    {
      "cell_type": "code",
      "source": [
        "!python3 -m pip install --upgrade pip"
      ],
      "metadata": {
        "colab": {
          "base_uri": "https://localhost:8080/"
        },
        "id": "KzttAPBEVR2P",
        "outputId": "62fdf381-9cac-4fa8-8bb0-f9a959090f8f"
      },
      "execution_count": 47,
      "outputs": [
        {
          "output_type": "stream",
          "name": "stdout",
          "text": [
            "Looking in indexes: https://pypi.org/simple, https://us-python.pkg.dev/colab-wheels/public/simple/\n",
            "Requirement already satisfied: pip in /usr/local/lib/python3.6/dist-packages (21.3.1)\n",
            "\u001b[33mWARNING: Running pip as the 'root' user can result in broken permissions and conflicting behaviour with the system package manager. It is recommended to use a virtual environment instead: https://pip.pypa.io/warnings/venv\u001b[0m\n"
          ]
        }
      ]
    },
    {
      "cell_type": "code",
      "metadata": {
        "id": "e4wFQJkBiFWE",
        "outputId": "759e4f48-7fe7-4c27-bd17-52c487d05bf0",
        "colab": {
          "base_uri": "https://localhost:8080/"
        }
      },
      "source": [
        "# Downgrade pillow to avoid `UserWarning: Possibly corrupt EXIF data.`\n",
        "!pip install pillow==4.0.0"
      ],
      "execution_count": 48,
      "outputs": [
        {
          "output_type": "stream",
          "name": "stdout",
          "text": [
            "Looking in indexes: https://pypi.org/simple, https://us-python.pkg.dev/colab-wheels/public/simple/\n",
            "Requirement already satisfied: pillow==4.0.0 in /usr/local/lib/python3.6/dist-packages (4.0.0)\n",
            "Requirement already satisfied: olefile in /usr/local/lib/python3.6/dist-packages (from pillow==4.0.0) (0.46)\n",
            "\u001b[33mWARNING: Running pip as the 'root' user can result in broken permissions and conflicting behaviour with the system package manager. It is recommended to use a virtual environment instead: https://pip.pypa.io/warnings/venv\u001b[0m\n"
          ]
        }
      ]
    },
    {
      "cell_type": "code",
      "metadata": {
        "id": "SmzQmZdKDfSF"
      },
      "source": [
        "from tensorflow.keras import models\n",
        "from tensorflow.keras import layers\n",
        "from tensorflow.keras import optimizers\n",
        "import os\n",
        "import glob\n",
        "import shutil\n",
        "import sys\n",
        "import numpy as np\n",
        "from skimage.io import imread\n",
        "import matplotlib.pyplot as plt\n",
        "from IPython.display import Image\n",
        "%matplotlib inline"
      ],
      "execution_count": 49,
      "outputs": []
    },
    {
      "cell_type": "markdown",
      "metadata": {
        "id": "VpdwDI3vL8sQ"
      },
      "source": [
        "\n",
        "## Hyper parameters"
      ]
    },
    {
      "cell_type": "code",
      "metadata": {
        "id": "mp4TOw5rJs0M"
      },
      "source": [
        "#กำหนดค่าพารามิเตอร์\n",
        "batch_size = 5\n",
        "\n",
        "width = 150\n",
        "height = 150\n",
        "epochs = 20\n",
        "NUM_TRAIN = 2000\n",
        "NUM_TEST = 1000\n",
        "dropout_rate = 0.2\n",
        "input_shape = (height, width, 3)"
      ],
      "execution_count": 50,
      "outputs": []
    },
    {
      "cell_type": "markdown",
      "metadata": {
        "id": "R9S4UyubKPUc"
      },
      "source": [
        "## Clone **efficientnet** repo"
      ]
    },
    {
      "cell_type": "code",
      "metadata": {
        "id": "mnyJvYF_yXLo",
        "outputId": "0dd4d9df-7f52-4410-9b63-c61ce6806b68",
        "colab": {
          "base_uri": "https://localhost:8080/"
        }
      },
      "source": [
        "#ดึงข้อมูลใน Github มาใช้\n",
        "import os\n",
        "%cd /content\n",
        "if not os.path.isdir(\"efficientnet_keras_transfer_learning\"):\n",
        " !git clone https://github.com/Wanita-8943/efficientnet_keras_transfer_learning\n",
        "%cd efficientnet_keras_transfer_learning/"
      ],
      "execution_count": 51,
      "outputs": [
        {
          "output_type": "stream",
          "name": "stdout",
          "text": [
            "/content\n",
            "/content/efficientnet_keras_transfer_learning\n"
          ]
        }
      ]
    },
    {
      "cell_type": "markdown",
      "metadata": {
        "id": "oO7kxxRaMC2q"
      },
      "source": [
        "## Import efficientnet and load the conv base model"
      ]
    },
    {
      "cell_type": "code",
      "metadata": {
        "id": "vq00KoYUzOSc"
      },
      "source": [
        "# Options: EfficientNetB0, EfficientNetB1, EfficientNetB2, EfficientNetB3\n",
        "# Higher the number, the more complex the model is.\n",
        "from efficientnet import EfficientNetB0 as Net\n",
        "from efficientnet import center_crop_and_resize, preprocess_input"
      ],
      "execution_count": 52,
      "outputs": []
    },
    {
      "cell_type": "code",
      "source": [
        "#!pip install tf-nightly"
      ],
      "metadata": {
        "id": "r7m3xgOrZ8WJ"
      },
      "execution_count": 53,
      "outputs": []
    },
    {
      "cell_type": "code",
      "metadata": {
        "id": "PeETTKsszRj0"
      },
      "source": [
        "# loading pretrained conv base model\n",
        "# โหลดโมเดล มาโดยตัด output ของโมเดลออก เเต่ยังใช้ input อันเดิม\n",
        "# เเละโหลด weight ของโมเดล มาด้วยที่ชื่อว่า imagenet\n",
        "conv_base = Net(weights='imagenet', include_top=False, input_shape=input_shape)"
      ],
      "execution_count": 54,
      "outputs": []
    },
    {
      "cell_type": "code",
      "source": [
        "conv_base.summary() #ดู Summary"
      ],
      "metadata": {
        "id": "0IDIdFIUpYwo",
        "outputId": "8d8ec164-a9c7-454e-c718-bea45172df92",
        "colab": {
          "base_uri": "https://localhost:8080/"
        }
      },
      "execution_count": 55,
      "outputs": [
        {
          "output_type": "stream",
          "name": "stdout",
          "text": [
            "Model: \"efficientnet-b0\"\n",
            "__________________________________________________________________________________________________\n",
            " Layer (type)                   Output Shape         Param #     Connected to                     \n",
            "==================================================================================================\n",
            " input_3 (InputLayer)           [(None, 150, 150, 3  0           []                               \n",
            "                                )]                                                                \n",
            "                                                                                                  \n",
            " conv2d_130 (Conv2D)            (None, 75, 75, 32)   864         ['input_3[0][0]']                \n",
            "                                                                                                  \n",
            " batch_normalization_98 (BatchN  (None, 75, 75, 32)  128         ['conv2d_130[0][0]']             \n",
            " ormalization)                                                                                    \n",
            "                                                                                                  \n",
            " swish_98 (Swish)               (None, 75, 75, 32)   0           ['batch_normalization_98[0][0]'] \n",
            "                                                                                                  \n",
            " depthwise_conv2d_32 (Depthwise  (None, 75, 75, 32)  288         ['swish_98[0][0]']               \n",
            " Conv2D)                                                                                          \n",
            "                                                                                                  \n",
            " batch_normalization_99 (BatchN  (None, 75, 75, 32)  128         ['depthwise_conv2d_32[0][0]']    \n",
            " ormalization)                                                                                    \n",
            "                                                                                                  \n",
            " swish_99 (Swish)               (None, 75, 75, 32)   0           ['batch_normalization_99[0][0]'] \n",
            "                                                                                                  \n",
            " lambda_32 (Lambda)             (None, 1, 1, 32)     0           ['swish_99[0][0]']               \n",
            "                                                                                                  \n",
            " conv2d_131 (Conv2D)            (None, 1, 1, 8)      264         ['lambda_32[0][0]']              \n",
            "                                                                                                  \n",
            " swish_100 (Swish)              (None, 1, 1, 8)      0           ['conv2d_131[0][0]']             \n",
            "                                                                                                  \n",
            " conv2d_132 (Conv2D)            (None, 1, 1, 32)     288         ['swish_100[0][0]']              \n",
            "                                                                                                  \n",
            " activation_32 (Activation)     (None, 1, 1, 32)     0           ['conv2d_132[0][0]']             \n",
            "                                                                                                  \n",
            " multiply_32 (Multiply)         (None, 75, 75, 32)   0           ['activation_32[0][0]',          \n",
            "                                                                  'swish_99[0][0]']               \n",
            "                                                                                                  \n",
            " conv2d_133 (Conv2D)            (None, 75, 75, 16)   512         ['multiply_32[0][0]']            \n",
            "                                                                                                  \n",
            " batch_normalization_100 (Batch  (None, 75, 75, 16)  64          ['conv2d_133[0][0]']             \n",
            " Normalization)                                                                                   \n",
            "                                                                                                  \n",
            " conv2d_134 (Conv2D)            (None, 75, 75, 96)   1536        ['batch_normalization_100[0][0]']\n",
            "                                                                                                  \n",
            " batch_normalization_101 (Batch  (None, 75, 75, 96)  384         ['conv2d_134[0][0]']             \n",
            " Normalization)                                                                                   \n",
            "                                                                                                  \n",
            " swish_101 (Swish)              (None, 75, 75, 96)   0           ['batch_normalization_101[0][0]']\n",
            "                                                                                                  \n",
            " depthwise_conv2d_33 (Depthwise  (None, 38, 38, 96)  864         ['swish_101[0][0]']              \n",
            " Conv2D)                                                                                          \n",
            "                                                                                                  \n",
            " batch_normalization_102 (Batch  (None, 38, 38, 96)  384         ['depthwise_conv2d_33[0][0]']    \n",
            " Normalization)                                                                                   \n",
            "                                                                                                  \n",
            " swish_102 (Swish)              (None, 38, 38, 96)   0           ['batch_normalization_102[0][0]']\n",
            "                                                                                                  \n",
            " lambda_33 (Lambda)             (None, 1, 1, 96)     0           ['swish_102[0][0]']              \n",
            "                                                                                                  \n",
            " conv2d_135 (Conv2D)            (None, 1, 1, 4)      388         ['lambda_33[0][0]']              \n",
            "                                                                                                  \n",
            " swish_103 (Swish)              (None, 1, 1, 4)      0           ['conv2d_135[0][0]']             \n",
            "                                                                                                  \n",
            " conv2d_136 (Conv2D)            (None, 1, 1, 96)     480         ['swish_103[0][0]']              \n",
            "                                                                                                  \n",
            " activation_33 (Activation)     (None, 1, 1, 96)     0           ['conv2d_136[0][0]']             \n",
            "                                                                                                  \n",
            " multiply_33 (Multiply)         (None, 38, 38, 96)   0           ['activation_33[0][0]',          \n",
            "                                                                  'swish_102[0][0]']              \n",
            "                                                                                                  \n",
            " conv2d_137 (Conv2D)            (None, 38, 38, 24)   2304        ['multiply_33[0][0]']            \n",
            "                                                                                                  \n",
            " batch_normalization_103 (Batch  (None, 38, 38, 24)  96          ['conv2d_137[0][0]']             \n",
            " Normalization)                                                                                   \n",
            "                                                                                                  \n",
            " conv2d_138 (Conv2D)            (None, 38, 38, 144)  3456        ['batch_normalization_103[0][0]']\n",
            "                                                                                                  \n",
            " batch_normalization_104 (Batch  (None, 38, 38, 144)  576        ['conv2d_138[0][0]']             \n",
            " Normalization)                                                                                   \n",
            "                                                                                                  \n",
            " swish_104 (Swish)              (None, 38, 38, 144)  0           ['batch_normalization_104[0][0]']\n",
            "                                                                                                  \n",
            " depthwise_conv2d_34 (Depthwise  (None, 38, 38, 144)  1296       ['swish_104[0][0]']              \n",
            " Conv2D)                                                                                          \n",
            "                                                                                                  \n",
            " batch_normalization_105 (Batch  (None, 38, 38, 144)  576        ['depthwise_conv2d_34[0][0]']    \n",
            " Normalization)                                                                                   \n",
            "                                                                                                  \n",
            " swish_105 (Swish)              (None, 38, 38, 144)  0           ['batch_normalization_105[0][0]']\n",
            "                                                                                                  \n",
            " lambda_34 (Lambda)             (None, 1, 1, 144)    0           ['swish_105[0][0]']              \n",
            "                                                                                                  \n",
            " conv2d_139 (Conv2D)            (None, 1, 1, 6)      870         ['lambda_34[0][0]']              \n",
            "                                                                                                  \n",
            " swish_106 (Swish)              (None, 1, 1, 6)      0           ['conv2d_139[0][0]']             \n",
            "                                                                                                  \n",
            " conv2d_140 (Conv2D)            (None, 1, 1, 144)    1008        ['swish_106[0][0]']              \n",
            "                                                                                                  \n",
            " activation_34 (Activation)     (None, 1, 1, 144)    0           ['conv2d_140[0][0]']             \n",
            "                                                                                                  \n",
            " multiply_34 (Multiply)         (None, 38, 38, 144)  0           ['activation_34[0][0]',          \n",
            "                                                                  'swish_105[0][0]']              \n",
            "                                                                                                  \n",
            " conv2d_141 (Conv2D)            (None, 38, 38, 24)   3456        ['multiply_34[0][0]']            \n",
            "                                                                                                  \n",
            " batch_normalization_106 (Batch  (None, 38, 38, 24)  96          ['conv2d_141[0][0]']             \n",
            " Normalization)                                                                                   \n",
            "                                                                                                  \n",
            " drop_connect_18 (DropConnect)  (None, 38, 38, 24)   0           ['batch_normalization_106[0][0]']\n",
            "                                                                                                  \n",
            " add_18 (Add)                   (None, 38, 38, 24)   0           ['drop_connect_18[0][0]',        \n",
            "                                                                  'batch_normalization_103[0][0]']\n",
            "                                                                                                  \n",
            " conv2d_142 (Conv2D)            (None, 38, 38, 144)  3456        ['add_18[0][0]']                 \n",
            "                                                                                                  \n",
            " batch_normalization_107 (Batch  (None, 38, 38, 144)  576        ['conv2d_142[0][0]']             \n",
            " Normalization)                                                                                   \n",
            "                                                                                                  \n",
            " swish_107 (Swish)              (None, 38, 38, 144)  0           ['batch_normalization_107[0][0]']\n",
            "                                                                                                  \n",
            " depthwise_conv2d_35 (Depthwise  (None, 19, 19, 144)  3600       ['swish_107[0][0]']              \n",
            " Conv2D)                                                                                          \n",
            "                                                                                                  \n",
            " batch_normalization_108 (Batch  (None, 19, 19, 144)  576        ['depthwise_conv2d_35[0][0]']    \n",
            " Normalization)                                                                                   \n",
            "                                                                                                  \n",
            " swish_108 (Swish)              (None, 19, 19, 144)  0           ['batch_normalization_108[0][0]']\n",
            "                                                                                                  \n",
            " lambda_35 (Lambda)             (None, 1, 1, 144)    0           ['swish_108[0][0]']              \n",
            "                                                                                                  \n",
            " conv2d_143 (Conv2D)            (None, 1, 1, 6)      870         ['lambda_35[0][0]']              \n",
            "                                                                                                  \n",
            " swish_109 (Swish)              (None, 1, 1, 6)      0           ['conv2d_143[0][0]']             \n",
            "                                                                                                  \n",
            " conv2d_144 (Conv2D)            (None, 1, 1, 144)    1008        ['swish_109[0][0]']              \n",
            "                                                                                                  \n",
            " activation_35 (Activation)     (None, 1, 1, 144)    0           ['conv2d_144[0][0]']             \n",
            "                                                                                                  \n",
            " multiply_35 (Multiply)         (None, 19, 19, 144)  0           ['activation_35[0][0]',          \n",
            "                                                                  'swish_108[0][0]']              \n",
            "                                                                                                  \n",
            " conv2d_145 (Conv2D)            (None, 19, 19, 40)   5760        ['multiply_35[0][0]']            \n",
            "                                                                                                  \n",
            " batch_normalization_109 (Batch  (None, 19, 19, 40)  160         ['conv2d_145[0][0]']             \n",
            " Normalization)                                                                                   \n",
            "                                                                                                  \n",
            " conv2d_146 (Conv2D)            (None, 19, 19, 240)  9600        ['batch_normalization_109[0][0]']\n",
            "                                                                                                  \n",
            " batch_normalization_110 (Batch  (None, 19, 19, 240)  960        ['conv2d_146[0][0]']             \n",
            " Normalization)                                                                                   \n",
            "                                                                                                  \n",
            " swish_110 (Swish)              (None, 19, 19, 240)  0           ['batch_normalization_110[0][0]']\n",
            "                                                                                                  \n",
            " depthwise_conv2d_36 (Depthwise  (None, 19, 19, 240)  6000       ['swish_110[0][0]']              \n",
            " Conv2D)                                                                                          \n",
            "                                                                                                  \n",
            " batch_normalization_111 (Batch  (None, 19, 19, 240)  960        ['depthwise_conv2d_36[0][0]']    \n",
            " Normalization)                                                                                   \n",
            "                                                                                                  \n",
            " swish_111 (Swish)              (None, 19, 19, 240)  0           ['batch_normalization_111[0][0]']\n",
            "                                                                                                  \n",
            " lambda_36 (Lambda)             (None, 1, 1, 240)    0           ['swish_111[0][0]']              \n",
            "                                                                                                  \n",
            " conv2d_147 (Conv2D)            (None, 1, 1, 10)     2410        ['lambda_36[0][0]']              \n",
            "                                                                                                  \n",
            " swish_112 (Swish)              (None, 1, 1, 10)     0           ['conv2d_147[0][0]']             \n",
            "                                                                                                  \n",
            " conv2d_148 (Conv2D)            (None, 1, 1, 240)    2640        ['swish_112[0][0]']              \n",
            "                                                                                                  \n",
            " activation_36 (Activation)     (None, 1, 1, 240)    0           ['conv2d_148[0][0]']             \n",
            "                                                                                                  \n",
            " multiply_36 (Multiply)         (None, 19, 19, 240)  0           ['activation_36[0][0]',          \n",
            "                                                                  'swish_111[0][0]']              \n",
            "                                                                                                  \n",
            " conv2d_149 (Conv2D)            (None, 19, 19, 40)   9600        ['multiply_36[0][0]']            \n",
            "                                                                                                  \n",
            " batch_normalization_112 (Batch  (None, 19, 19, 40)  160         ['conv2d_149[0][0]']             \n",
            " Normalization)                                                                                   \n",
            "                                                                                                  \n",
            " drop_connect_19 (DropConnect)  (None, 19, 19, 40)   0           ['batch_normalization_112[0][0]']\n",
            "                                                                                                  \n",
            " add_19 (Add)                   (None, 19, 19, 40)   0           ['drop_connect_19[0][0]',        \n",
            "                                                                  'batch_normalization_109[0][0]']\n",
            "                                                                                                  \n",
            " conv2d_150 (Conv2D)            (None, 19, 19, 240)  9600        ['add_19[0][0]']                 \n",
            "                                                                                                  \n",
            " batch_normalization_113 (Batch  (None, 19, 19, 240)  960        ['conv2d_150[0][0]']             \n",
            " Normalization)                                                                                   \n",
            "                                                                                                  \n",
            " swish_113 (Swish)              (None, 19, 19, 240)  0           ['batch_normalization_113[0][0]']\n",
            "                                                                                                  \n",
            " depthwise_conv2d_37 (Depthwise  (None, 10, 10, 240)  2160       ['swish_113[0][0]']              \n",
            " Conv2D)                                                                                          \n",
            "                                                                                                  \n",
            " batch_normalization_114 (Batch  (None, 10, 10, 240)  960        ['depthwise_conv2d_37[0][0]']    \n",
            " Normalization)                                                                                   \n",
            "                                                                                                  \n",
            " swish_114 (Swish)              (None, 10, 10, 240)  0           ['batch_normalization_114[0][0]']\n",
            "                                                                                                  \n",
            " lambda_37 (Lambda)             (None, 1, 1, 240)    0           ['swish_114[0][0]']              \n",
            "                                                                                                  \n",
            " conv2d_151 (Conv2D)            (None, 1, 1, 10)     2410        ['lambda_37[0][0]']              \n",
            "                                                                                                  \n",
            " swish_115 (Swish)              (None, 1, 1, 10)     0           ['conv2d_151[0][0]']             \n",
            "                                                                                                  \n",
            " conv2d_152 (Conv2D)            (None, 1, 1, 240)    2640        ['swish_115[0][0]']              \n",
            "                                                                                                  \n",
            " activation_37 (Activation)     (None, 1, 1, 240)    0           ['conv2d_152[0][0]']             \n",
            "                                                                                                  \n",
            " multiply_37 (Multiply)         (None, 10, 10, 240)  0           ['activation_37[0][0]',          \n",
            "                                                                  'swish_114[0][0]']              \n",
            "                                                                                                  \n",
            " conv2d_153 (Conv2D)            (None, 10, 10, 80)   19200       ['multiply_37[0][0]']            \n",
            "                                                                                                  \n",
            " batch_normalization_115 (Batch  (None, 10, 10, 80)  320         ['conv2d_153[0][0]']             \n",
            " Normalization)                                                                                   \n",
            "                                                                                                  \n",
            " conv2d_154 (Conv2D)            (None, 10, 10, 480)  38400       ['batch_normalization_115[0][0]']\n",
            "                                                                                                  \n",
            " batch_normalization_116 (Batch  (None, 10, 10, 480)  1920       ['conv2d_154[0][0]']             \n",
            " Normalization)                                                                                   \n",
            "                                                                                                  \n",
            " swish_116 (Swish)              (None, 10, 10, 480)  0           ['batch_normalization_116[0][0]']\n",
            "                                                                                                  \n",
            " depthwise_conv2d_38 (Depthwise  (None, 10, 10, 480)  4320       ['swish_116[0][0]']              \n",
            " Conv2D)                                                                                          \n",
            "                                                                                                  \n",
            " batch_normalization_117 (Batch  (None, 10, 10, 480)  1920       ['depthwise_conv2d_38[0][0]']    \n",
            " Normalization)                                                                                   \n",
            "                                                                                                  \n",
            " swish_117 (Swish)              (None, 10, 10, 480)  0           ['batch_normalization_117[0][0]']\n",
            "                                                                                                  \n",
            " lambda_38 (Lambda)             (None, 1, 1, 480)    0           ['swish_117[0][0]']              \n",
            "                                                                                                  \n",
            " conv2d_155 (Conv2D)            (None, 1, 1, 20)     9620        ['lambda_38[0][0]']              \n",
            "                                                                                                  \n",
            " swish_118 (Swish)              (None, 1, 1, 20)     0           ['conv2d_155[0][0]']             \n",
            "                                                                                                  \n",
            " conv2d_156 (Conv2D)            (None, 1, 1, 480)    10080       ['swish_118[0][0]']              \n",
            "                                                                                                  \n",
            " activation_38 (Activation)     (None, 1, 1, 480)    0           ['conv2d_156[0][0]']             \n",
            "                                                                                                  \n",
            " multiply_38 (Multiply)         (None, 10, 10, 480)  0           ['activation_38[0][0]',          \n",
            "                                                                  'swish_117[0][0]']              \n",
            "                                                                                                  \n",
            " conv2d_157 (Conv2D)            (None, 10, 10, 80)   38400       ['multiply_38[0][0]']            \n",
            "                                                                                                  \n",
            " batch_normalization_118 (Batch  (None, 10, 10, 80)  320         ['conv2d_157[0][0]']             \n",
            " Normalization)                                                                                   \n",
            "                                                                                                  \n",
            " drop_connect_20 (DropConnect)  (None, 10, 10, 80)   0           ['batch_normalization_118[0][0]']\n",
            "                                                                                                  \n",
            " add_20 (Add)                   (None, 10, 10, 80)   0           ['drop_connect_20[0][0]',        \n",
            "                                                                  'batch_normalization_115[0][0]']\n",
            "                                                                                                  \n",
            " conv2d_158 (Conv2D)            (None, 10, 10, 480)  38400       ['add_20[0][0]']                 \n",
            "                                                                                                  \n",
            " batch_normalization_119 (Batch  (None, 10, 10, 480)  1920       ['conv2d_158[0][0]']             \n",
            " Normalization)                                                                                   \n",
            "                                                                                                  \n",
            " swish_119 (Swish)              (None, 10, 10, 480)  0           ['batch_normalization_119[0][0]']\n",
            "                                                                                                  \n",
            " depthwise_conv2d_39 (Depthwise  (None, 10, 10, 480)  4320       ['swish_119[0][0]']              \n",
            " Conv2D)                                                                                          \n",
            "                                                                                                  \n",
            " batch_normalization_120 (Batch  (None, 10, 10, 480)  1920       ['depthwise_conv2d_39[0][0]']    \n",
            " Normalization)                                                                                   \n",
            "                                                                                                  \n",
            " swish_120 (Swish)              (None, 10, 10, 480)  0           ['batch_normalization_120[0][0]']\n",
            "                                                                                                  \n",
            " lambda_39 (Lambda)             (None, 1, 1, 480)    0           ['swish_120[0][0]']              \n",
            "                                                                                                  \n",
            " conv2d_159 (Conv2D)            (None, 1, 1, 20)     9620        ['lambda_39[0][0]']              \n",
            "                                                                                                  \n",
            " swish_121 (Swish)              (None, 1, 1, 20)     0           ['conv2d_159[0][0]']             \n",
            "                                                                                                  \n",
            " conv2d_160 (Conv2D)            (None, 1, 1, 480)    10080       ['swish_121[0][0]']              \n",
            "                                                                                                  \n",
            " activation_39 (Activation)     (None, 1, 1, 480)    0           ['conv2d_160[0][0]']             \n",
            "                                                                                                  \n",
            " multiply_39 (Multiply)         (None, 10, 10, 480)  0           ['activation_39[0][0]',          \n",
            "                                                                  'swish_120[0][0]']              \n",
            "                                                                                                  \n",
            " conv2d_161 (Conv2D)            (None, 10, 10, 80)   38400       ['multiply_39[0][0]']            \n",
            "                                                                                                  \n",
            " batch_normalization_121 (Batch  (None, 10, 10, 80)  320         ['conv2d_161[0][0]']             \n",
            " Normalization)                                                                                   \n",
            "                                                                                                  \n",
            " drop_connect_21 (DropConnect)  (None, 10, 10, 80)   0           ['batch_normalization_121[0][0]']\n",
            "                                                                                                  \n",
            " add_21 (Add)                   (None, 10, 10, 80)   0           ['drop_connect_21[0][0]',        \n",
            "                                                                  'add_20[0][0]']                 \n",
            "                                                                                                  \n",
            " conv2d_162 (Conv2D)            (None, 10, 10, 480)  38400       ['add_21[0][0]']                 \n",
            "                                                                                                  \n",
            " batch_normalization_122 (Batch  (None, 10, 10, 480)  1920       ['conv2d_162[0][0]']             \n",
            " Normalization)                                                                                   \n",
            "                                                                                                  \n",
            " swish_122 (Swish)              (None, 10, 10, 480)  0           ['batch_normalization_122[0][0]']\n",
            "                                                                                                  \n",
            " depthwise_conv2d_40 (Depthwise  (None, 10, 10, 480)  12000      ['swish_122[0][0]']              \n",
            " Conv2D)                                                                                          \n",
            "                                                                                                  \n",
            " batch_normalization_123 (Batch  (None, 10, 10, 480)  1920       ['depthwise_conv2d_40[0][0]']    \n",
            " Normalization)                                                                                   \n",
            "                                                                                                  \n",
            " swish_123 (Swish)              (None, 10, 10, 480)  0           ['batch_normalization_123[0][0]']\n",
            "                                                                                                  \n",
            " lambda_40 (Lambda)             (None, 1, 1, 480)    0           ['swish_123[0][0]']              \n",
            "                                                                                                  \n",
            " conv2d_163 (Conv2D)            (None, 1, 1, 20)     9620        ['lambda_40[0][0]']              \n",
            "                                                                                                  \n",
            " swish_124 (Swish)              (None, 1, 1, 20)     0           ['conv2d_163[0][0]']             \n",
            "                                                                                                  \n",
            " conv2d_164 (Conv2D)            (None, 1, 1, 480)    10080       ['swish_124[0][0]']              \n",
            "                                                                                                  \n",
            " activation_40 (Activation)     (None, 1, 1, 480)    0           ['conv2d_164[0][0]']             \n",
            "                                                                                                  \n",
            " multiply_40 (Multiply)         (None, 10, 10, 480)  0           ['activation_40[0][0]',          \n",
            "                                                                  'swish_123[0][0]']              \n",
            "                                                                                                  \n",
            " conv2d_165 (Conv2D)            (None, 10, 10, 112)  53760       ['multiply_40[0][0]']            \n",
            "                                                                                                  \n",
            " batch_normalization_124 (Batch  (None, 10, 10, 112)  448        ['conv2d_165[0][0]']             \n",
            " Normalization)                                                                                   \n",
            "                                                                                                  \n",
            " conv2d_166 (Conv2D)            (None, 10, 10, 672)  75264       ['batch_normalization_124[0][0]']\n",
            "                                                                                                  \n",
            " batch_normalization_125 (Batch  (None, 10, 10, 672)  2688       ['conv2d_166[0][0]']             \n",
            " Normalization)                                                                                   \n",
            "                                                                                                  \n",
            " swish_125 (Swish)              (None, 10, 10, 672)  0           ['batch_normalization_125[0][0]']\n",
            "                                                                                                  \n",
            " depthwise_conv2d_41 (Depthwise  (None, 10, 10, 672)  16800      ['swish_125[0][0]']              \n",
            " Conv2D)                                                                                          \n",
            "                                                                                                  \n",
            " batch_normalization_126 (Batch  (None, 10, 10, 672)  2688       ['depthwise_conv2d_41[0][0]']    \n",
            " Normalization)                                                                                   \n",
            "                                                                                                  \n",
            " swish_126 (Swish)              (None, 10, 10, 672)  0           ['batch_normalization_126[0][0]']\n",
            "                                                                                                  \n",
            " lambda_41 (Lambda)             (None, 1, 1, 672)    0           ['swish_126[0][0]']              \n",
            "                                                                                                  \n",
            " conv2d_167 (Conv2D)            (None, 1, 1, 28)     18844       ['lambda_41[0][0]']              \n",
            "                                                                                                  \n",
            " swish_127 (Swish)              (None, 1, 1, 28)     0           ['conv2d_167[0][0]']             \n",
            "                                                                                                  \n",
            " conv2d_168 (Conv2D)            (None, 1, 1, 672)    19488       ['swish_127[0][0]']              \n",
            "                                                                                                  \n",
            " activation_41 (Activation)     (None, 1, 1, 672)    0           ['conv2d_168[0][0]']             \n",
            "                                                                                                  \n",
            " multiply_41 (Multiply)         (None, 10, 10, 672)  0           ['activation_41[0][0]',          \n",
            "                                                                  'swish_126[0][0]']              \n",
            "                                                                                                  \n",
            " conv2d_169 (Conv2D)            (None, 10, 10, 112)  75264       ['multiply_41[0][0]']            \n",
            "                                                                                                  \n",
            " batch_normalization_127 (Batch  (None, 10, 10, 112)  448        ['conv2d_169[0][0]']             \n",
            " Normalization)                                                                                   \n",
            "                                                                                                  \n",
            " drop_connect_22 (DropConnect)  (None, 10, 10, 112)  0           ['batch_normalization_127[0][0]']\n",
            "                                                                                                  \n",
            " add_22 (Add)                   (None, 10, 10, 112)  0           ['drop_connect_22[0][0]',        \n",
            "                                                                  'batch_normalization_124[0][0]']\n",
            "                                                                                                  \n",
            " conv2d_170 (Conv2D)            (None, 10, 10, 672)  75264       ['add_22[0][0]']                 \n",
            "                                                                                                  \n",
            " batch_normalization_128 (Batch  (None, 10, 10, 672)  2688       ['conv2d_170[0][0]']             \n",
            " Normalization)                                                                                   \n",
            "                                                                                                  \n",
            " swish_128 (Swish)              (None, 10, 10, 672)  0           ['batch_normalization_128[0][0]']\n",
            "                                                                                                  \n",
            " depthwise_conv2d_42 (Depthwise  (None, 10, 10, 672)  16800      ['swish_128[0][0]']              \n",
            " Conv2D)                                                                                          \n",
            "                                                                                                  \n",
            " batch_normalization_129 (Batch  (None, 10, 10, 672)  2688       ['depthwise_conv2d_42[0][0]']    \n",
            " Normalization)                                                                                   \n",
            "                                                                                                  \n",
            " swish_129 (Swish)              (None, 10, 10, 672)  0           ['batch_normalization_129[0][0]']\n",
            "                                                                                                  \n",
            " lambda_42 (Lambda)             (None, 1, 1, 672)    0           ['swish_129[0][0]']              \n",
            "                                                                                                  \n",
            " conv2d_171 (Conv2D)            (None, 1, 1, 28)     18844       ['lambda_42[0][0]']              \n",
            "                                                                                                  \n",
            " swish_130 (Swish)              (None, 1, 1, 28)     0           ['conv2d_171[0][0]']             \n",
            "                                                                                                  \n",
            " conv2d_172 (Conv2D)            (None, 1, 1, 672)    19488       ['swish_130[0][0]']              \n",
            "                                                                                                  \n",
            " activation_42 (Activation)     (None, 1, 1, 672)    0           ['conv2d_172[0][0]']             \n",
            "                                                                                                  \n",
            " multiply_42 (Multiply)         (None, 10, 10, 672)  0           ['activation_42[0][0]',          \n",
            "                                                                  'swish_129[0][0]']              \n",
            "                                                                                                  \n",
            " conv2d_173 (Conv2D)            (None, 10, 10, 112)  75264       ['multiply_42[0][0]']            \n",
            "                                                                                                  \n",
            " batch_normalization_130 (Batch  (None, 10, 10, 112)  448        ['conv2d_173[0][0]']             \n",
            " Normalization)                                                                                   \n",
            "                                                                                                  \n",
            " drop_connect_23 (DropConnect)  (None, 10, 10, 112)  0           ['batch_normalization_130[0][0]']\n",
            "                                                                                                  \n",
            " add_23 (Add)                   (None, 10, 10, 112)  0           ['drop_connect_23[0][0]',        \n",
            "                                                                  'add_22[0][0]']                 \n",
            "                                                                                                  \n",
            " conv2d_174 (Conv2D)            (None, 10, 10, 672)  75264       ['add_23[0][0]']                 \n",
            "                                                                                                  \n",
            " batch_normalization_131 (Batch  (None, 10, 10, 672)  2688       ['conv2d_174[0][0]']             \n",
            " Normalization)                                                                                   \n",
            "                                                                                                  \n",
            " swish_131 (Swish)              (None, 10, 10, 672)  0           ['batch_normalization_131[0][0]']\n",
            "                                                                                                  \n",
            " depthwise_conv2d_43 (Depthwise  (None, 5, 5, 672)   16800       ['swish_131[0][0]']              \n",
            " Conv2D)                                                                                          \n",
            "                                                                                                  \n",
            " batch_normalization_132 (Batch  (None, 5, 5, 672)   2688        ['depthwise_conv2d_43[0][0]']    \n",
            " Normalization)                                                                                   \n",
            "                                                                                                  \n",
            " swish_132 (Swish)              (None, 5, 5, 672)    0           ['batch_normalization_132[0][0]']\n",
            "                                                                                                  \n",
            " lambda_43 (Lambda)             (None, 1, 1, 672)    0           ['swish_132[0][0]']              \n",
            "                                                                                                  \n",
            " conv2d_175 (Conv2D)            (None, 1, 1, 28)     18844       ['lambda_43[0][0]']              \n",
            "                                                                                                  \n",
            " swish_133 (Swish)              (None, 1, 1, 28)     0           ['conv2d_175[0][0]']             \n",
            "                                                                                                  \n",
            " conv2d_176 (Conv2D)            (None, 1, 1, 672)    19488       ['swish_133[0][0]']              \n",
            "                                                                                                  \n",
            " activation_43 (Activation)     (None, 1, 1, 672)    0           ['conv2d_176[0][0]']             \n",
            "                                                                                                  \n",
            " multiply_43 (Multiply)         (None, 5, 5, 672)    0           ['activation_43[0][0]',          \n",
            "                                                                  'swish_132[0][0]']              \n",
            "                                                                                                  \n",
            " conv2d_177 (Conv2D)            (None, 5, 5, 192)    129024      ['multiply_43[0][0]']            \n",
            "                                                                                                  \n",
            " batch_normalization_133 (Batch  (None, 5, 5, 192)   768         ['conv2d_177[0][0]']             \n",
            " Normalization)                                                                                   \n",
            "                                                                                                  \n",
            " conv2d_178 (Conv2D)            (None, 5, 5, 1152)   221184      ['batch_normalization_133[0][0]']\n",
            "                                                                                                  \n",
            " batch_normalization_134 (Batch  (None, 5, 5, 1152)  4608        ['conv2d_178[0][0]']             \n",
            " Normalization)                                                                                   \n",
            "                                                                                                  \n",
            " swish_134 (Swish)              (None, 5, 5, 1152)   0           ['batch_normalization_134[0][0]']\n",
            "                                                                                                  \n",
            " depthwise_conv2d_44 (Depthwise  (None, 5, 5, 1152)  28800       ['swish_134[0][0]']              \n",
            " Conv2D)                                                                                          \n",
            "                                                                                                  \n",
            " batch_normalization_135 (Batch  (None, 5, 5, 1152)  4608        ['depthwise_conv2d_44[0][0]']    \n",
            " Normalization)                                                                                   \n",
            "                                                                                                  \n",
            " swish_135 (Swish)              (None, 5, 5, 1152)   0           ['batch_normalization_135[0][0]']\n",
            "                                                                                                  \n",
            " lambda_44 (Lambda)             (None, 1, 1, 1152)   0           ['swish_135[0][0]']              \n",
            "                                                                                                  \n",
            " conv2d_179 (Conv2D)            (None, 1, 1, 48)     55344       ['lambda_44[0][0]']              \n",
            "                                                                                                  \n",
            " swish_136 (Swish)              (None, 1, 1, 48)     0           ['conv2d_179[0][0]']             \n",
            "                                                                                                  \n",
            " conv2d_180 (Conv2D)            (None, 1, 1, 1152)   56448       ['swish_136[0][0]']              \n",
            "                                                                                                  \n",
            " activation_44 (Activation)     (None, 1, 1, 1152)   0           ['conv2d_180[0][0]']             \n",
            "                                                                                                  \n",
            " multiply_44 (Multiply)         (None, 5, 5, 1152)   0           ['activation_44[0][0]',          \n",
            "                                                                  'swish_135[0][0]']              \n",
            "                                                                                                  \n",
            " conv2d_181 (Conv2D)            (None, 5, 5, 192)    221184      ['multiply_44[0][0]']            \n",
            "                                                                                                  \n",
            " batch_normalization_136 (Batch  (None, 5, 5, 192)   768         ['conv2d_181[0][0]']             \n",
            " Normalization)                                                                                   \n",
            "                                                                                                  \n",
            " drop_connect_24 (DropConnect)  (None, 5, 5, 192)    0           ['batch_normalization_136[0][0]']\n",
            "                                                                                                  \n",
            " add_24 (Add)                   (None, 5, 5, 192)    0           ['drop_connect_24[0][0]',        \n",
            "                                                                  'batch_normalization_133[0][0]']\n",
            "                                                                                                  \n",
            " conv2d_182 (Conv2D)            (None, 5, 5, 1152)   221184      ['add_24[0][0]']                 \n",
            "                                                                                                  \n",
            " batch_normalization_137 (Batch  (None, 5, 5, 1152)  4608        ['conv2d_182[0][0]']             \n",
            " Normalization)                                                                                   \n",
            "                                                                                                  \n",
            " swish_137 (Swish)              (None, 5, 5, 1152)   0           ['batch_normalization_137[0][0]']\n",
            "                                                                                                  \n",
            " depthwise_conv2d_45 (Depthwise  (None, 5, 5, 1152)  28800       ['swish_137[0][0]']              \n",
            " Conv2D)                                                                                          \n",
            "                                                                                                  \n",
            " batch_normalization_138 (Batch  (None, 5, 5, 1152)  4608        ['depthwise_conv2d_45[0][0]']    \n",
            " Normalization)                                                                                   \n",
            "                                                                                                  \n",
            " swish_138 (Swish)              (None, 5, 5, 1152)   0           ['batch_normalization_138[0][0]']\n",
            "                                                                                                  \n",
            " lambda_45 (Lambda)             (None, 1, 1, 1152)   0           ['swish_138[0][0]']              \n",
            "                                                                                                  \n",
            " conv2d_183 (Conv2D)            (None, 1, 1, 48)     55344       ['lambda_45[0][0]']              \n",
            "                                                                                                  \n",
            " swish_139 (Swish)              (None, 1, 1, 48)     0           ['conv2d_183[0][0]']             \n",
            "                                                                                                  \n",
            " conv2d_184 (Conv2D)            (None, 1, 1, 1152)   56448       ['swish_139[0][0]']              \n",
            "                                                                                                  \n",
            " activation_45 (Activation)     (None, 1, 1, 1152)   0           ['conv2d_184[0][0]']             \n",
            "                                                                                                  \n",
            " multiply_45 (Multiply)         (None, 5, 5, 1152)   0           ['activation_45[0][0]',          \n",
            "                                                                  'swish_138[0][0]']              \n",
            "                                                                                                  \n",
            " conv2d_185 (Conv2D)            (None, 5, 5, 192)    221184      ['multiply_45[0][0]']            \n",
            "                                                                                                  \n",
            " batch_normalization_139 (Batch  (None, 5, 5, 192)   768         ['conv2d_185[0][0]']             \n",
            " Normalization)                                                                                   \n",
            "                                                                                                  \n",
            " drop_connect_25 (DropConnect)  (None, 5, 5, 192)    0           ['batch_normalization_139[0][0]']\n",
            "                                                                                                  \n",
            " add_25 (Add)                   (None, 5, 5, 192)    0           ['drop_connect_25[0][0]',        \n",
            "                                                                  'add_24[0][0]']                 \n",
            "                                                                                                  \n",
            " conv2d_186 (Conv2D)            (None, 5, 5, 1152)   221184      ['add_25[0][0]']                 \n",
            "                                                                                                  \n",
            " batch_normalization_140 (Batch  (None, 5, 5, 1152)  4608        ['conv2d_186[0][0]']             \n",
            " Normalization)                                                                                   \n",
            "                                                                                                  \n",
            " swish_140 (Swish)              (None, 5, 5, 1152)   0           ['batch_normalization_140[0][0]']\n",
            "                                                                                                  \n",
            " depthwise_conv2d_46 (Depthwise  (None, 5, 5, 1152)  28800       ['swish_140[0][0]']              \n",
            " Conv2D)                                                                                          \n",
            "                                                                                                  \n",
            " batch_normalization_141 (Batch  (None, 5, 5, 1152)  4608        ['depthwise_conv2d_46[0][0]']    \n",
            " Normalization)                                                                                   \n",
            "                                                                                                  \n",
            " swish_141 (Swish)              (None, 5, 5, 1152)   0           ['batch_normalization_141[0][0]']\n",
            "                                                                                                  \n",
            " lambda_46 (Lambda)             (None, 1, 1, 1152)   0           ['swish_141[0][0]']              \n",
            "                                                                                                  \n",
            " conv2d_187 (Conv2D)            (None, 1, 1, 48)     55344       ['lambda_46[0][0]']              \n",
            "                                                                                                  \n",
            " swish_142 (Swish)              (None, 1, 1, 48)     0           ['conv2d_187[0][0]']             \n",
            "                                                                                                  \n",
            " conv2d_188 (Conv2D)            (None, 1, 1, 1152)   56448       ['swish_142[0][0]']              \n",
            "                                                                                                  \n",
            " activation_46 (Activation)     (None, 1, 1, 1152)   0           ['conv2d_188[0][0]']             \n",
            "                                                                                                  \n",
            " multiply_46 (Multiply)         (None, 5, 5, 1152)   0           ['activation_46[0][0]',          \n",
            "                                                                  'swish_141[0][0]']              \n",
            "                                                                                                  \n",
            " conv2d_189 (Conv2D)            (None, 5, 5, 192)    221184      ['multiply_46[0][0]']            \n",
            "                                                                                                  \n",
            " batch_normalization_142 (Batch  (None, 5, 5, 192)   768         ['conv2d_189[0][0]']             \n",
            " Normalization)                                                                                   \n",
            "                                                                                                  \n",
            " drop_connect_26 (DropConnect)  (None, 5, 5, 192)    0           ['batch_normalization_142[0][0]']\n",
            "                                                                                                  \n",
            " add_26 (Add)                   (None, 5, 5, 192)    0           ['drop_connect_26[0][0]',        \n",
            "                                                                  'add_25[0][0]']                 \n",
            "                                                                                                  \n",
            " conv2d_190 (Conv2D)            (None, 5, 5, 1152)   221184      ['add_26[0][0]']                 \n",
            "                                                                                                  \n",
            " batch_normalization_143 (Batch  (None, 5, 5, 1152)  4608        ['conv2d_190[0][0]']             \n",
            " Normalization)                                                                                   \n",
            "                                                                                                  \n",
            " swish_143 (Swish)              (None, 5, 5, 1152)   0           ['batch_normalization_143[0][0]']\n",
            "                                                                                                  \n",
            " depthwise_conv2d_47 (Depthwise  (None, 5, 5, 1152)  10368       ['swish_143[0][0]']              \n",
            " Conv2D)                                                                                          \n",
            "                                                                                                  \n",
            " batch_normalization_144 (Batch  (None, 5, 5, 1152)  4608        ['depthwise_conv2d_47[0][0]']    \n",
            " Normalization)                                                                                   \n",
            "                                                                                                  \n",
            " swish_144 (Swish)              (None, 5, 5, 1152)   0           ['batch_normalization_144[0][0]']\n",
            "                                                                                                  \n",
            " lambda_47 (Lambda)             (None, 1, 1, 1152)   0           ['swish_144[0][0]']              \n",
            "                                                                                                  \n",
            " conv2d_191 (Conv2D)            (None, 1, 1, 48)     55344       ['lambda_47[0][0]']              \n",
            "                                                                                                  \n",
            " swish_145 (Swish)              (None, 1, 1, 48)     0           ['conv2d_191[0][0]']             \n",
            "                                                                                                  \n",
            " conv2d_192 (Conv2D)            (None, 1, 1, 1152)   56448       ['swish_145[0][0]']              \n",
            "                                                                                                  \n",
            " activation_47 (Activation)     (None, 1, 1, 1152)   0           ['conv2d_192[0][0]']             \n",
            "                                                                                                  \n",
            " multiply_47 (Multiply)         (None, 5, 5, 1152)   0           ['activation_47[0][0]',          \n",
            "                                                                  'swish_144[0][0]']              \n",
            "                                                                                                  \n",
            " conv2d_193 (Conv2D)            (None, 5, 5, 320)    368640      ['multiply_47[0][0]']            \n",
            "                                                                                                  \n",
            " batch_normalization_145 (Batch  (None, 5, 5, 320)   1280        ['conv2d_193[0][0]']             \n",
            " Normalization)                                                                                   \n",
            "                                                                                                  \n",
            " conv2d_194 (Conv2D)            (None, 5, 5, 1280)   409600      ['batch_normalization_145[0][0]']\n",
            "                                                                                                  \n",
            " batch_normalization_146 (Batch  (None, 5, 5, 1280)  5120        ['conv2d_194[0][0]']             \n",
            " Normalization)                                                                                   \n",
            "                                                                                                  \n",
            " swish_146 (Swish)              (None, 5, 5, 1280)   0           ['batch_normalization_146[0][0]']\n",
            "                                                                                                  \n",
            "==================================================================================================\n",
            "Total params: 4,049,564\n",
            "Trainable params: 4,007,548\n",
            "Non-trainable params: 42,016\n",
            "__________________________________________________________________________________________________\n"
          ]
        }
      ]
    },
    {
      "cell_type": "markdown",
      "metadata": {
        "id": "WONAK_7CKY6z"
      },
      "source": [
        "## Download and extract `dog_vs_cat` dataset"
      ]
    },
    {
      "cell_type": "code",
      "source": [
        "#https://drive.google.com/drive/folders/1he-7wku7JhK5qUKw90h46FHSZTDJSu8X?usp=sharing"
      ],
      "metadata": {
        "id": "Nk8a7VoqYrXS"
      },
      "execution_count": 56,
      "outputs": []
    },
    {
      "cell_type": "code",
      "source": [
        "import numpy as np\n",
        "import os\n",
        "from google.colab import drive\n",
        "drive.mount('/content/drive/')\n",
        "path = '/content/drive/My Drive/Panoramic'"
      ],
      "metadata": {
        "colab": {
          "base_uri": "https://localhost:8080/"
        },
        "id": "coNKxROdDjCm",
        "outputId": "f610d8c7-0d39-42f7-bb26-ad59a64cc4f9"
      },
      "execution_count": 57,
      "outputs": [
        {
          "output_type": "stream",
          "name": "stdout",
          "text": [
            "Drive already mounted at /content/drive/; to attempt to forcibly remount, call drive.mount(\"/content/drive/\", force_remount=True).\n"
          ]
        }
      ]
    },
    {
      "cell_type": "code",
      "source": [
        "path = '/content/drive/My Drive/Panoramic'"
      ],
      "metadata": {
        "id": "p0DQ_tNeEDOY"
      },
      "execution_count": 58,
      "outputs": []
    },
    {
      "cell_type": "code",
      "metadata": {
        "id": "8Tp1YzND3dUs"
      },
      "source": [
        "#if not os.path.isfile(\"kagglecatsanddogs_5340.zip\"):\n",
        " #!wget /content/kagglecatsanddogs_5340.zip\n",
        " #!unzip -qq /content/kagglecatsanddogs_5340.zip -d dog_vs_cat\n",
        "#else:\n",
        " # print(\"dataset already exist.\")"
      ],
      "execution_count": 59,
      "outputs": []
    },
    {
      "cell_type": "code",
      "source": [
        "data_file_path = os.path.join(path,'/content/drive/My Drive/Panoramic/Pilot_film')   "
      ],
      "metadata": {
        "id": "foMibEgULXp9"
      },
      "execution_count": 60,
      "outputs": []
    },
    {
      "cell_type": "code",
      "metadata": {
        "id": "4OdmlrfP40sc"
      },
      "source": [
        "#!ls /content/drive/My Drive/dog_vs_cat/data\n",
        "#!ls /content/drive/My Drive/dog_vs_cat/data/cat -l -t | head -10"
      ],
      "execution_count": 61,
      "outputs": []
    },
    {
      "cell_type": "code",
      "source": [
        "#glob.glob คือ เพื่อค้นหาไฟล์ที่ต้องการใน python\n",
        "# The path to the directory where the original #len นับจำนวน\n",
        "# dataset was uncompressed #.format จัดรูปแบบข้อความ\n",
        "original_dataset_dir = '/content/drive/My Drive/Panoramic/Pilot_film'\n",
        "\n",
        "EightYF_images = glob.glob(os.path.join(original_dataset_dir, \"8years_F\", '*.jpg'))\n",
        "NineYF_images = glob.glob(os.path.join(original_dataset_dir, \"9years_F\", '*.jpg'))\n",
        "TenYF_images = glob.glob(os.path.join(original_dataset_dir, \"10years_F\", '*.jpg'))\n",
        "print(\"total 8years_F images: {}\\n\\rtotal 9years_F images: {}\\n\\rtotal 10years_F images: {}\".format(len(EightYF_images), len(NineYF_images), len(TenYF_images)))"
      ],
      "metadata": {
        "colab": {
          "base_uri": "https://localhost:8080/"
        },
        "cellView": "code",
        "id": "HJginNM34Rnv",
        "outputId": "d7ec6ad3-e9e7-4804-9585-fde795a13a05"
      },
      "execution_count": 64,
      "outputs": [
        {
          "output_type": "stream",
          "name": "stdout",
          "text": [
            "total 8years_F images: 11\n",
            "\rtotal 9years_F images: 11\n",
            "\rtotal 10years_F images: 10\n"
          ]
        }
      ]
    },
    {
      "cell_type": "code",
      "metadata": {
        "id": "IBqtrHVu5iUE"
      },
      "source": [
        "# ไดเรกทอรีที่เราจะจัดเก็บข้อมูลที่มีขนาดเล็กลง\n",
        "#Directory คือสารบัญที่เก็บรวบรวมรายชื่อไฟล์ต่างๆ\n",
        "base_dir = '/content/drive/My Drive/Panoramic/Pilot_film'\n",
        "os.makedirs(base_dir, exist_ok=True) #สร้างโฟลเดอร์ จาก base_dir\n",
        "\n",
        "# Directories for our training,\n",
        "# validation and test splits\n",
        "train_dir = os.path.join(base_dir, 'train')\n",
        "os.makedirs(train_dir, exist_ok=True)\n",
        "validation_dir = os.path.join(base_dir, 'validation')\n",
        "os.makedirs(validation_dir, exist_ok=True)\n",
        "test_dir = os.path.join(base_dir, 'test')\n",
        "os.makedirs(test_dir, exist_ok=True)\n",
        "\n",
        "# Directory with our training cat pictures\n",
        "train_8years_F_dir = os.path.join(train_dir, '8years_F')\n",
        "os.makedirs(train_8years_F_dir, exist_ok=True)\n",
        "\n",
        "# Directory with our training dog pictures\n",
        "train_9years_F_dir = os.path.join(train_dir, '9years_F')\n",
        "os.makedirs(train_9years_F_dir, exist_ok=True)\n",
        "\n",
        "train_10years_F_dir = os.path.join(train_dir, '10years_F')\n",
        "os.makedirs(train_10years_F_dir, exist_ok=True)\n",
        "\n",
        "# Directory with our validation cat pictures\n",
        "validation_8years_F_dir = os.path.join(validation_dir, '8years_F')\n",
        "os.makedirs(validation_8years_F_dir, exist_ok=True)\n",
        "\n",
        "# Directory with our validation dog pictures\n",
        "validation_9years_F_dir = os.path.join(validation_dir, '9years_F')\n",
        "os.makedirs(validation_9years_F_dir, exist_ok=True)\n",
        "\n",
        "validation_10years_F_dir = os.path.join(validation_dir, '10years_F')\n",
        "os.makedirs(validation_10years_F_dir, exist_ok=True)\n",
        "\n",
        "# Directory with our validation cat pictures\n",
        "test_8years_F_dir = os.path.join(test_dir, '8years_F')\n",
        "os.makedirs(test_8years_F_dir, exist_ok=True)\n",
        "\n",
        "# Directory with our validation dog pictures\n",
        "test_9years_F_dir = os.path.join(test_dir, '9years_F')\n",
        "os.makedirs(test_9years_F_dir, exist_ok=True)\n",
        "\n",
        "test_10years_F_dir = os.path.join(test_dir, '10years_F')\n",
        "os.makedirs(test_10years_F_dir, exist_ok=True)\n",
        "\n",
        "# Copy first NUM_TRAIN//2 cat images to train_cats_dir # // หารปัดเศษทิ้ง\t\n",
        "fnames = EightYF_images[:NUM_TRAIN//2]\n",
        "for fname in fnames:\n",
        "    dst = os.path.join(train_8years_F_dir, os.path.basename(fname))\n",
        "    shutil.copyfile(fname, dst)\n",
        "offset = NUM_TRAIN//2\n",
        "# Copy next NUM_TEST //2 cat images to validation_cats_dir\n",
        "fnames = EightYF_images[offset:offset + NUM_TEST // 2]\n",
        "for fname in fnames:\n",
        "    dst = os.path.join(validation_8years_F_dir, os.path.basename(fname))\n",
        "    shutil.copyfile(fname, dst)\n",
        "offset = offset + NUM_TEST // 2\n",
        "# Copy next NUM_TRAIN//2 cat images to test_cats_dir\n",
        "fnames = EightYF_images[offset:offset + NUM_TEST // 2]\n",
        "for fname in fnames:\n",
        "    dst = os.path.join(EightYF_images, os.path.basename(fname))\n",
        "    shutil.copyfile(fname, dst)\n",
        "\n",
        "# Copy first NUM_TRAIN//2 cat images to train_cats_dir # // หารปัดเศษทิ้ง\t\n",
        "fnames = NineYF_images[:NUM_TRAIN//2]\n",
        "for fname in fnames:\n",
        "    dst = os.path.join(train_9years_F_dir, os.path.basename(fname))\n",
        "    shutil.copyfile(fname, dst)\n",
        "offset = NUM_TRAIN//2\n",
        "# Copy next NUM_TEST //2 cat images to validation_cats_dir\n",
        "fnames = NineYF_images[offset:offset + NUM_TEST // 2]\n",
        "for fname in fnames:\n",
        "    dst = os.path.join(validation_9years_F_dir, os.path.basename(fname))\n",
        "    shutil.copyfile(fname, dst)\n",
        "offset = offset + NUM_TEST // 2\n",
        "# Copy next NUM_TRAIN//2 cat images to test_cats_dir\n",
        "fnames = NineYF_images[offset:offset + NUM_TEST // 2]\n",
        "for fname in fnames:\n",
        "    dst = os.path.join(NineYF_images, os.path.basename(fname))\n",
        "    shutil.copyfile(fname, dst)\n",
        "\n",
        "    # Copy first NUM_TRAIN//2 cat images to train_cats_dir # // หารปัดเศษทิ้ง\t\n",
        "fnames = TenYF_images[:NUM_TRAIN//2]\n",
        "for fname in fnames:\n",
        "    dst = os.path.join(train_10years_F_dir, os.path.basename(fname))\n",
        "    shutil.copyfile(fname, dst)\n",
        "offset = NUM_TRAIN//2\n",
        "# Copy next NUM_TEST //2 cat images to validation_cats_dir\n",
        "fnames = TenYF_images[offset:offset + NUM_TEST // 2]\n",
        "for fname in fnames:\n",
        "    dst = os.path.join(validation_10years_F_dir, os.path.basename(fname))\n",
        "    shutil.copyfile(fname, dst)\n",
        "offset = offset + NUM_TEST // 2\n",
        "# Copy next NUM_TRAIN//2 cat images to test_cats_dir\n",
        "fnames = TenYF_images[offset:offset + NUM_TEST // 2]\n",
        "for fname in fnames:\n",
        "    dst = os.path.join(EightYF_images, os.path.basename(fname))\n",
        "    shutil.copyfile(fname, dst)"
      ],
      "execution_count": 65,
      "outputs": []
    },
    {
      "cell_type": "code",
      "metadata": {
        "id": "WyD74zWe56WK",
        "outputId": "b1da6018-bb46-4a53-c0c3-652b54cca073",
        "colab": {
          "base_uri": "https://localhost:8080/"
        }
      },
      "source": [
        "#os.listdir แสดงลิสต์ของชื่อไฟล์ทั้งหมดในโฟลเดอร์ที่ระบุ\n",
        "#len นับจำนวน\n",
        "print('total training 8years_F images:', len(os.listdir(train_8years_F_dir))) \n",
        "print('total training 9years_F images:', len(os.listdir(train_9years_F_dir)))\n",
        "print('total training 10years_F images:', len(os.listdir(train_10years_F_dir)))\n",
        "print('total validation 8years_F images:', len(os.listdir(validation_8years_F_dir)))\n",
        "print('total validation 9years_F images:', len(os.listdir(validation_9years_F_dir)))\n",
        "print('total validation 10years_F images:', len(os.listdir(validation_10years_F_dir)))\n",
        "print('total test 8years_F images:', len(os.listdir(test_8years_F_dir)))\n",
        "print('total test 9years_F images:', len(os.listdir(test_9years_F_dir)))\n",
        "print('total test 10years_F images:', len(os.listdir(test_10years_F_dir)))"
      ],
      "execution_count": 66,
      "outputs": [
        {
          "output_type": "stream",
          "name": "stdout",
          "text": [
            "total training 8years_F images: 11\n",
            "total training 9years_F images: 11\n",
            "total training 10years_F images: 10\n",
            "total validation 8years_F images: 6\n",
            "total validation 9years_F images: 6\n",
            "total validation 10years_F images: 5\n",
            "total test 8years_F images: 5\n",
            "total test 9years_F images: 6\n",
            "total test 10years_F images: 6\n"
          ]
        }
      ]
    },
    {
      "cell_type": "code",
      "metadata": {
        "id": "D9MM2WA49zyj",
        "outputId": "69649029-bde4-4b7b-a33d-95c918a3f9de",
        "colab": {
          "base_uri": "https://localhost:8080/"
        }
      },
      "source": [
        "# Train ด้วย ImageDataGenerator ของ Keras ซึ่งจะเพิ่มข้อมูลเสริมระหว่างการฝึกเพื่อลดโอกาสเกิด overfitting\n",
        "#overfitting เกิดจากข้อมูลที่ซับซ้อนกันเกินไป\n",
        "from tensorflow.keras.preprocessing.image import ImageDataGenerator\n",
        "\n",
        "train_datagen = ImageDataGenerator(\n",
        "      rescale=1./255, #โมเดลส่วนใหญ่ต้องใช้ RGB ในช่วง 0–1\n",
        "      rotation_range=40,\n",
        "      width_shift_range=0.2,\n",
        "      height_shift_range=0.2,\n",
        "      shear_range=0.2,\n",
        "      zoom_range=0.2,\n",
        "      horizontal_flip=True,\n",
        "      fill_mode='nearest')\n",
        "\n",
        "# Note that the validation data should not be augmented!\n",
        "test_datagen = ImageDataGenerator(rescale=1./255)\n",
        "\n",
        "train_generator = train_datagen.flow_from_directory(\n",
        "        # This is the target directory #ไดเรกเป้าหมาย\n",
        "        train_dir,\n",
        "        # รูปภาพทั้งหมดจะถูกปรับขนาดตามความสูงและความกว้างของเป้าหมาย\n",
        "        target_size=(height, width),\n",
        "        batch_size=batch_size,\n",
        "        # Since we use categorical_crossentropy loss, we need categorical labels\n",
        "        #เนื่องจากเราใช้ categorical_crossentropy loss เราจึงต้องมีป้ายกำกับตามหมวดหมู่\n",
        "        class_mode='categorical')\n",
        "\n",
        "validation_generator = test_datagen.flow_from_directory( #การดึงภาพจาก Directory มาเข้าโมเดล \n",
        "        validation_dir,\n",
        "        target_size=(height, width),\n",
        "        batch_size=batch_size,\n",
        "        class_mode='categorical')"
      ],
      "execution_count": 67,
      "outputs": [
        {
          "output_type": "stream",
          "name": "stdout",
          "text": [
            "Found 32 images belonging to 3 classes.\n",
            "Found 17 images belonging to 3 classes.\n"
          ]
        }
      ]
    },
    {
      "cell_type": "markdown",
      "source": [
        "#ยังไม่เข้าใจ"
      ],
      "metadata": {
        "id": "DziQVtWMgy_7"
      }
    },
    {
      "cell_type": "code",
      "metadata": {
        "id": "lgjoz26l-HfD"
      },
      "source": [
        "model = models.Sequential()\n",
        "model.add(conv_base)\n",
        "model.add(layers.GlobalMaxPooling2D(name=\"gap\"))\n",
        "# model.add(layers.Flatten(name=\"flatten\"))\n",
        "if dropout_rate > 0:\n",
        "    model.add(layers.Dropout(dropout_rate, name=\"dropout_out\"))\n",
        "# model.add(layers.Dense(256, activation='relu', name=\"fc1\"))\n",
        "model.add(layers.Dense(2, activation='softmax', name=\"fc_out\"))"
      ],
      "execution_count": 68,
      "outputs": []
    },
    {
      "cell_type": "code",
      "metadata": {
        "id": "4iAX7AegDHUS",
        "outputId": "8a1b3cc5-07d3-4daa-c438-3bd64640d200",
        "colab": {
          "base_uri": "https://localhost:8080/"
        }
      },
      "source": [
        "model.summary()"
      ],
      "execution_count": 69,
      "outputs": [
        {
          "output_type": "stream",
          "name": "stdout",
          "text": [
            "Model: \"sequential_1\"\n",
            "_________________________________________________________________\n",
            " Layer (type)                Output Shape              Param #   \n",
            "=================================================================\n",
            " efficientnet-b0 (Functional  (None, 5, 5, 1280)       4049564   \n",
            " )                                                               \n",
            "                                                                 \n",
            " gap (GlobalMaxPooling2D)    (None, 1280)              0         \n",
            "                                                                 \n",
            " dropout_out (Dropout)       (None, 1280)              0         \n",
            "                                                                 \n",
            " fc_out (Dense)              (None, 2)                 2562      \n",
            "                                                                 \n",
            "=================================================================\n",
            "Total params: 4,052,126\n",
            "Trainable params: 4,010,110\n",
            "Non-trainable params: 42,016\n",
            "_________________________________________________________________\n"
          ]
        }
      ]
    },
    {
      "cell_type": "code",
      "metadata": {
        "id": "_N-F9Z-uDJAi",
        "outputId": "e06f0592-1fc8-47b1-e22a-49d3426d2fac",
        "colab": {
          "base_uri": "https://localhost:8080/"
        }
      },
      "source": [
        "print('This is the number of trainable layers '\n",
        "      'before freezing the conv base:', len(model.trainable_weights))\n",
        "\n",
        "conv_base.trainable = False\n",
        "\n",
        "print('This is the number of trainable layers '\n",
        "      'after freezing the conv base:', len(model.trainable_weights))"
      ],
      "execution_count": 70,
      "outputs": [
        {
          "output_type": "stream",
          "name": "stdout",
          "text": [
            "This is the number of trainable layers before freezing the conv base: 213\n",
            "This is the number of trainable layers after freezing the conv base: 2\n"
          ]
        }
      ]
    },
    {
      "cell_type": "code",
      "metadata": {
        "id": "SJHDUrjw2wRG",
        "colab": {
          "base_uri": "https://localhost:8080/",
          "height": 1000
        },
        "outputId": "2a83cd32-88a7-4310-edf4-956d5bfdf99d"
      },
      "source": [
        "model.compile(loss='categorical_crossentropy',\n",
        "              optimizer=optimizers.RMSprop(lr=2e-5),\n",
        "              metrics=['acc'])\n",
        "history = model.fit_generator(\n",
        "      train_generator,\n",
        "      steps_per_epoch= NUM_TRAIN //batch_size,\n",
        "      epochs=epochs,\n",
        "      validation_data=validation_generator,\n",
        "      validation_steps= NUM_TEST //batch_size,\n",
        "      verbose=1,\n",
        "      use_multiprocessing=True,\n",
        "      workers=4)"
      ],
      "execution_count": 72,
      "outputs": [
        {
          "output_type": "stream",
          "name": "stderr",
          "text": [
            "/usr/local/lib/python3.7/dist-packages/ipykernel_launcher.py:12: UserWarning: `Model.fit_generator` is deprecated and will be removed in a future version. Please use `Model.fit`, which supports generators.\n",
            "  if sys.path[0] == '':\n"
          ]
        },
        {
          "output_type": "stream",
          "name": "stdout",
          "text": [
            "Epoch 1/20\n"
          ]
        },
        {
          "output_type": "error",
          "ename": "InvalidArgumentError",
          "evalue": "ignored",
          "traceback": [
            "\u001b[0;31m---------------------------------------------------------------------------\u001b[0m",
            "\u001b[0;31mInvalidArgumentError\u001b[0m                      Traceback (most recent call last)",
            "\u001b[0;32m<ipython-input-72-bbda3a575f01>\u001b[0m in \u001b[0;36m<module>\u001b[0;34m\u001b[0m\n\u001b[1;32m     10\u001b[0m       \u001b[0mverbose\u001b[0m\u001b[0;34m=\u001b[0m\u001b[0;36m1\u001b[0m\u001b[0;34m,\u001b[0m\u001b[0;34m\u001b[0m\u001b[0;34m\u001b[0m\u001b[0m\n\u001b[1;32m     11\u001b[0m       \u001b[0muse_multiprocessing\u001b[0m\u001b[0;34m=\u001b[0m\u001b[0;32mTrue\u001b[0m\u001b[0;34m,\u001b[0m\u001b[0;34m\u001b[0m\u001b[0;34m\u001b[0m\u001b[0m\n\u001b[0;32m---> 12\u001b[0;31m       workers=4)\n\u001b[0m",
            "\u001b[0;32m/usr/local/lib/python3.7/dist-packages/keras/engine/training.py\u001b[0m in \u001b[0;36mfit_generator\u001b[0;34m(self, generator, steps_per_epoch, epochs, verbose, callbacks, validation_data, validation_steps, validation_freq, class_weight, max_queue_size, workers, use_multiprocessing, shuffle, initial_epoch)\u001b[0m\n\u001b[1;32m   2221\u001b[0m         \u001b[0muse_multiprocessing\u001b[0m\u001b[0;34m=\u001b[0m\u001b[0muse_multiprocessing\u001b[0m\u001b[0;34m,\u001b[0m\u001b[0;34m\u001b[0m\u001b[0;34m\u001b[0m\u001b[0m\n\u001b[1;32m   2222\u001b[0m         \u001b[0mshuffle\u001b[0m\u001b[0;34m=\u001b[0m\u001b[0mshuffle\u001b[0m\u001b[0;34m,\u001b[0m\u001b[0;34m\u001b[0m\u001b[0;34m\u001b[0m\u001b[0m\n\u001b[0;32m-> 2223\u001b[0;31m         initial_epoch=initial_epoch)\n\u001b[0m\u001b[1;32m   2224\u001b[0m \u001b[0;34m\u001b[0m\u001b[0m\n\u001b[1;32m   2225\u001b[0m   \u001b[0;34m@\u001b[0m\u001b[0mdoc_controls\u001b[0m\u001b[0;34m.\u001b[0m\u001b[0mdo_not_generate_docs\u001b[0m\u001b[0;34m\u001b[0m\u001b[0;34m\u001b[0m\u001b[0m\n",
            "\u001b[0;32m/usr/local/lib/python3.7/dist-packages/keras/utils/traceback_utils.py\u001b[0m in \u001b[0;36merror_handler\u001b[0;34m(*args, **kwargs)\u001b[0m\n\u001b[1;32m     65\u001b[0m     \u001b[0;32mexcept\u001b[0m \u001b[0mException\u001b[0m \u001b[0;32mas\u001b[0m \u001b[0me\u001b[0m\u001b[0;34m:\u001b[0m  \u001b[0;31m# pylint: disable=broad-except\u001b[0m\u001b[0;34m\u001b[0m\u001b[0;34m\u001b[0m\u001b[0m\n\u001b[1;32m     66\u001b[0m       \u001b[0mfiltered_tb\u001b[0m \u001b[0;34m=\u001b[0m \u001b[0m_process_traceback_frames\u001b[0m\u001b[0;34m(\u001b[0m\u001b[0me\u001b[0m\u001b[0;34m.\u001b[0m\u001b[0m__traceback__\u001b[0m\u001b[0;34m)\u001b[0m\u001b[0;34m\u001b[0m\u001b[0;34m\u001b[0m\u001b[0m\n\u001b[0;32m---> 67\u001b[0;31m       \u001b[0;32mraise\u001b[0m \u001b[0me\u001b[0m\u001b[0;34m.\u001b[0m\u001b[0mwith_traceback\u001b[0m\u001b[0;34m(\u001b[0m\u001b[0mfiltered_tb\u001b[0m\u001b[0;34m)\u001b[0m \u001b[0;32mfrom\u001b[0m \u001b[0;32mNone\u001b[0m\u001b[0;34m\u001b[0m\u001b[0;34m\u001b[0m\u001b[0m\n\u001b[0m\u001b[1;32m     68\u001b[0m     \u001b[0;32mfinally\u001b[0m\u001b[0;34m:\u001b[0m\u001b[0;34m\u001b[0m\u001b[0;34m\u001b[0m\u001b[0m\n\u001b[1;32m     69\u001b[0m       \u001b[0;32mdel\u001b[0m \u001b[0mfiltered_tb\u001b[0m\u001b[0;34m\u001b[0m\u001b[0;34m\u001b[0m\u001b[0m\n",
            "\u001b[0;32m/usr/local/lib/python3.7/dist-packages/tensorflow/python/eager/execute.py\u001b[0m in \u001b[0;36mquick_execute\u001b[0;34m(op_name, num_outputs, inputs, attrs, ctx, name)\u001b[0m\n\u001b[1;32m     53\u001b[0m     \u001b[0mctx\u001b[0m\u001b[0;34m.\u001b[0m\u001b[0mensure_initialized\u001b[0m\u001b[0;34m(\u001b[0m\u001b[0;34m)\u001b[0m\u001b[0;34m\u001b[0m\u001b[0;34m\u001b[0m\u001b[0m\n\u001b[1;32m     54\u001b[0m     tensors = pywrap_tfe.TFE_Py_Execute(ctx._handle, device_name, op_name,\n\u001b[0;32m---> 55\u001b[0;31m                                         inputs, attrs, num_outputs)\n\u001b[0m\u001b[1;32m     56\u001b[0m   \u001b[0;32mexcept\u001b[0m \u001b[0mcore\u001b[0m\u001b[0;34m.\u001b[0m\u001b[0m_NotOkStatusException\u001b[0m \u001b[0;32mas\u001b[0m \u001b[0me\u001b[0m\u001b[0;34m:\u001b[0m\u001b[0;34m\u001b[0m\u001b[0;34m\u001b[0m\u001b[0m\n\u001b[1;32m     57\u001b[0m     \u001b[0;32mif\u001b[0m \u001b[0mname\u001b[0m \u001b[0;32mis\u001b[0m \u001b[0;32mnot\u001b[0m \u001b[0;32mNone\u001b[0m\u001b[0;34m:\u001b[0m\u001b[0;34m\u001b[0m\u001b[0;34m\u001b[0m\u001b[0m\n",
            "\u001b[0;31mInvalidArgumentError\u001b[0m: Graph execution error:\n\nDetected at node 'categorical_crossentropy/softmax_cross_entropy_with_logits' defined at (most recent call last):\n    File \"/usr/lib/python3.7/runpy.py\", line 193, in _run_module_as_main\n      \"__main__\", mod_spec)\n    File \"/usr/lib/python3.7/runpy.py\", line 85, in _run_code\n      exec(code, run_globals)\n    File \"/usr/local/lib/python3.7/dist-packages/ipykernel_launcher.py\", line 16, in <module>\n      app.launch_new_instance()\n    File \"/usr/local/lib/python3.7/dist-packages/traitlets/config/application.py\", line 846, in launch_instance\n      app.start()\n    File \"/usr/local/lib/python3.7/dist-packages/ipykernel/kernelapp.py\", line 612, in start\n      self.io_loop.start()\n    File \"/usr/local/lib/python3.7/dist-packages/tornado/platform/asyncio.py\", line 132, in start\n      self.asyncio_loop.run_forever()\n    File \"/usr/lib/python3.7/asyncio/base_events.py\", line 541, in run_forever\n      self._run_once()\n    File \"/usr/lib/python3.7/asyncio/base_events.py\", line 1786, in _run_once\n      handle._run()\n    File \"/usr/lib/python3.7/asyncio/events.py\", line 88, in _run\n      self._context.run(self._callback, *self._args)\n    File \"/usr/local/lib/python3.7/dist-packages/tornado/ioloop.py\", line 758, in _run_callback\n      ret = callback()\n    File \"/usr/local/lib/python3.7/dist-packages/tornado/stack_context.py\", line 300, in null_wrapper\n      return fn(*args, **kwargs)\n    File \"/usr/local/lib/python3.7/dist-packages/tornado/gen.py\", line 1233, in inner\n      self.run()\n    File \"/usr/local/lib/python3.7/dist-packages/tornado/gen.py\", line 1147, in run\n      yielded = self.gen.send(value)\n    File \"/usr/local/lib/python3.7/dist-packages/ipykernel/kernelbase.py\", line 365, in process_one\n      yield gen.maybe_future(dispatch(*args))\n    File \"/usr/local/lib/python3.7/dist-packages/tornado/gen.py\", line 326, in wrapper\n      yielded = next(result)\n    File \"/usr/local/lib/python3.7/dist-packages/ipykernel/kernelbase.py\", line 268, in dispatch_shell\n      yield gen.maybe_future(handler(stream, idents, msg))\n    File \"/usr/local/lib/python3.7/dist-packages/tornado/gen.py\", line 326, in wrapper\n      yielded = next(result)\n    File \"/usr/local/lib/python3.7/dist-packages/ipykernel/kernelbase.py\", line 545, in execute_request\n      user_expressions, allow_stdin,\n    File \"/usr/local/lib/python3.7/dist-packages/tornado/gen.py\", line 326, in wrapper\n      yielded = next(result)\n    File \"/usr/local/lib/python3.7/dist-packages/ipykernel/ipkernel.py\", line 306, in do_execute\n      res = shell.run_cell(code, store_history=store_history, silent=silent)\n    File \"/usr/local/lib/python3.7/dist-packages/ipykernel/zmqshell.py\", line 536, in run_cell\n      return super(ZMQInteractiveShell, self).run_cell(*args, **kwargs)\n    File \"/usr/local/lib/python3.7/dist-packages/IPython/core/interactiveshell.py\", line 2855, in run_cell\n      raw_cell, store_history, silent, shell_futures)\n    File \"/usr/local/lib/python3.7/dist-packages/IPython/core/interactiveshell.py\", line 2881, in _run_cell\n      return runner(coro)\n    File \"/usr/local/lib/python3.7/dist-packages/IPython/core/async_helpers.py\", line 68, in _pseudo_sync_runner\n      coro.send(None)\n    File \"/usr/local/lib/python3.7/dist-packages/IPython/core/interactiveshell.py\", line 3058, in run_cell_async\n      interactivity=interactivity, compiler=compiler, result=result)\n    File \"/usr/local/lib/python3.7/dist-packages/IPython/core/interactiveshell.py\", line 3249, in run_ast_nodes\n      if (await self.run_code(code, result,  async_=asy)):\n    File \"/usr/local/lib/python3.7/dist-packages/IPython/core/interactiveshell.py\", line 3326, in run_code\n      exec(code_obj, self.user_global_ns, self.user_ns)\n    File \"<ipython-input-72-bbda3a575f01>\", line 12, in <module>\n      workers=4)\n    File \"/usr/local/lib/python3.7/dist-packages/keras/engine/training.py\", line 2223, in fit_generator\n      initial_epoch=initial_epoch)\n    File \"/usr/local/lib/python3.7/dist-packages/keras/utils/traceback_utils.py\", line 64, in error_handler\n      return fn(*args, **kwargs)\n    File \"/usr/local/lib/python3.7/dist-packages/keras/engine/training.py\", line 1384, in fit\n      tmp_logs = self.train_function(iterator)\n    File \"/usr/local/lib/python3.7/dist-packages/keras/engine/training.py\", line 1021, in train_function\n      return step_function(self, iterator)\n    File \"/usr/local/lib/python3.7/dist-packages/keras/engine/training.py\", line 1010, in step_function\n      outputs = model.distribute_strategy.run(run_step, args=(data,))\n    File \"/usr/local/lib/python3.7/dist-packages/keras/engine/training.py\", line 1000, in run_step\n      outputs = model.train_step(data)\n    File \"/usr/local/lib/python3.7/dist-packages/keras/engine/training.py\", line 860, in train_step\n      loss = self.compute_loss(x, y, y_pred, sample_weight)\n    File \"/usr/local/lib/python3.7/dist-packages/keras/engine/training.py\", line 919, in compute_loss\n      y, y_pred, sample_weight, regularization_losses=self.losses)\n    File \"/usr/local/lib/python3.7/dist-packages/keras/engine/compile_utils.py\", line 201, in __call__\n      loss_value = loss_obj(y_t, y_p, sample_weight=sw)\n    File \"/usr/local/lib/python3.7/dist-packages/keras/losses.py\", line 141, in __call__\n      losses = call_fn(y_true, y_pred)\n    File \"/usr/local/lib/python3.7/dist-packages/keras/losses.py\", line 245, in call\n      return ag_fn(y_true, y_pred, **self._fn_kwargs)\n    File \"/usr/local/lib/python3.7/dist-packages/keras/losses.py\", line 1790, in categorical_crossentropy\n      y_true, y_pred, from_logits=from_logits, axis=axis)\n    File \"/usr/local/lib/python3.7/dist-packages/keras/backend.py\", line 5099, in categorical_crossentropy\n      labels=target, logits=output, axis=axis)\nNode: 'categorical_crossentropy/softmax_cross_entropy_with_logits'\nlogits and labels must be broadcastable: logits_size=[32,2] labels_size=[32,3]\n\t [[{{node categorical_crossentropy/softmax_cross_entropy_with_logits}}]] [Op:__inference_train_function_48024]"
          ]
        }
      ]
    },
    {
      "cell_type": "code",
      "metadata": {
        "id": "i90iKXuL3CHT"
      },
      "source": [
        "acc = history.history['acc']\n",
        "val_acc = history.history['val_acc']\n",
        "loss = history.history['loss']\n",
        "val_loss = history.history['val_loss']\n",
        "\n",
        "epochs_x = range(len(acc))\n",
        "\n",
        "plt.plot(epochs_x, acc, 'bo', label='Training acc')\n",
        "plt.plot(epochs_x, val_acc, 'b', label='Validation acc')\n",
        "plt.title('Training and validation accuracy')\n",
        "plt.legend()\n",
        "\n",
        "plt.figure()\n",
        "\n",
        "plt.plot(epochs_x, loss, 'bo', label='Training loss')\n",
        "plt.plot(epochs_x, val_loss, 'b', label='Validation loss')\n",
        "plt.title('Training and validation loss')\n",
        "plt.legend()\n",
        "\n",
        "plt.show()"
      ],
      "execution_count": null,
      "outputs": []
    },
    {
      "cell_type": "markdown",
      "metadata": {
        "id": "4gRv7SwYqT9f"
      },
      "source": [
        "## Fine tuning last several layers."
      ]
    },
    {
      "cell_type": "code",
      "metadata": {
        "id": "yKI8AJxQVB1Q"
      },
      "source": [
        "# multiply_16\n",
        "# set 'multiply_16' and following layers trainable\n",
        "conv_base.trainable = True\n",
        "\n",
        "set_trainable = False\n",
        "for layer in conv_base.layers:\n",
        "    if layer.name == 'multiply_16':\n",
        "        set_trainable = True\n",
        "    if set_trainable:\n",
        "        layer.trainable = True\n",
        "    else:\n",
        "        layer.trainable = False"
      ],
      "execution_count": null,
      "outputs": []
    },
    {
      "cell_type": "code",
      "metadata": {
        "id": "FMjt8tCcDOoC"
      },
      "source": [
        "model.compile(loss='categorical_crossentropy',\n",
        "              optimizer=optimizers.RMSprop(lr=2e-5),\n",
        "              metrics=['acc'])\n",
        "\n",
        "history = model.fit_generator(\n",
        "      train_generator,\n",
        "      steps_per_epoch= NUM_TRAIN //batch_size,\n",
        "      epochs=epochs,\n",
        "      validation_data=validation_generator,\n",
        "      validation_steps= NUM_TEST //batch_size,\n",
        "      verbose=1,\n",
        "      use_multiprocessing=True,\n",
        "      workers=4)"
      ],
      "execution_count": null,
      "outputs": []
    },
    {
      "cell_type": "code",
      "metadata": {
        "id": "HvVt5TwoEDz6"
      },
      "source": [
        "os.makedirs(\"./models\", exist_ok=True)\n",
        "model.save('./models/cats_and_dogs_small.h5')"
      ],
      "execution_count": null,
      "outputs": []
    },
    {
      "cell_type": "code",
      "metadata": {
        "id": "65AKWOGiHB5y"
      },
      "source": [
        "acc = history.history['acc']\n",
        "val_acc = history.history['val_acc']\n",
        "loss = history.history['loss']\n",
        "val_loss = history.history['val_loss']\n",
        "\n",
        "epochs_x = range(len(acc))\n",
        "\n",
        "plt.plot(epochs_x, acc, 'bo', label='Training acc')\n",
        "plt.plot(epochs_x, val_acc, 'b', label='Validation acc')\n",
        "plt.title('Training and validation accuracy')\n",
        "plt.legend()\n",
        "\n",
        "plt.figure()\n",
        "\n",
        "plt.plot(epochs_x, loss, 'bo', label='Training loss')\n",
        "plt.plot(epochs_x, val_loss, 'b', label='Validation loss')\n",
        "plt.title('Training and validation loss')\n",
        "plt.legend()\n",
        "\n",
        "plt.show()"
      ],
      "execution_count": null,
      "outputs": []
    },
    {
      "cell_type": "markdown",
      "metadata": {
        "id": "bigZr9kjL2sY"
      },
      "source": [
        "## Test predict"
      ]
    },
    {
      "cell_type": "code",
      "metadata": {
        "id": "JWTv_-7CHqZB"
      },
      "source": [
        "cat_img = cat_images[-1]\n",
        "dog_img= dog_images[-1]"
      ],
      "execution_count": null,
      "outputs": []
    },
    {
      "cell_type": "code",
      "metadata": {
        "id": "_VFoNC0TLzaf"
      },
      "source": [
        "Image(filename=cat_img)"
      ],
      "execution_count": null,
      "outputs": []
    },
    {
      "cell_type": "code",
      "metadata": {
        "id": "J4euiZSwLyZh"
      },
      "source": [
        "Image(filename=dog_img)"
      ],
      "execution_count": null,
      "outputs": []
    },
    {
      "cell_type": "code",
      "metadata": {
        "id": "SLDHANW_HPVv"
      },
      "source": [
        "from tensorflow.keras.preprocessing import image\n",
        "\n",
        "def predict_image(img_path):\n",
        "    # Read the image and resize it\n",
        "    img = image.load_img(img_path, target_size=(height, width))\n",
        "    # Convert it to a Numpy array with target shape.\n",
        "    x = image.img_to_array(img)\n",
        "    # Reshape\n",
        "    x = x.reshape((1,) + x.shape)\n",
        "    x /= 255.\n",
        "    result = model.predict([x])[0][0]\n",
        "    if result > 0.5:\n",
        "        animal = \"cat\"\n",
        "    else:\n",
        "        animal = \"dog\"\n",
        "        result = 1 - result\n",
        "    return animal,result\n",
        "\n",
        "print(predict_image(cat_img))\n",
        "print(predict_image(dog_img))"
      ],
      "execution_count": null,
      "outputs": []
    },
    {
      "cell_type": "markdown",
      "metadata": {
        "id": "ogB16XX3eXaN"
      },
      "source": [
        "## Download the model"
      ]
    },
    {
      "cell_type": "code",
      "metadata": {
        "id": "H_3Zek4eeSXD"
      },
      "source": [
        "from google.colab import files\n",
        "\n",
        "files.download('./models/cats_and_dogs_small.h5')"
      ],
      "execution_count": null,
      "outputs": []
    },
    {
      "cell_type": "code",
      "metadata": {
        "id": "n1rvrVx3CVN0"
      },
      "source": [
        "model.input_shape"
      ],
      "execution_count": null,
      "outputs": []
    },
    {
      "cell_type": "markdown",
      "metadata": {
        "id": "j9O9mCbbVPWk"
      },
      "source": [
        "## Load the model"
      ]
    },
    {
      "cell_type": "code",
      "metadata": {
        "id": "rkBE5AZdwLki"
      },
      "source": [
        "from efficientnet.layers import Swish, DropConnect\n",
        "from efficientnet.model import ConvKernalInitializer\n",
        "from tensorflow.keras.utils import get_custom_objects\n",
        "\n",
        "get_custom_objects().update({\n",
        "    'ConvKernalInitializer': ConvKernalInitializer,\n",
        "    'Swish': Swish,\n",
        "    'DropConnect':DropConnect\n",
        "})"
      ],
      "execution_count": null,
      "outputs": []
    },
    {
      "cell_type": "code",
      "metadata": {
        "id": "pURT5B8uVFgq"
      },
      "source": [
        "from tensorflow.keras.models import load_model\n",
        "model = load_model(\"./models/cats_and_dogs_small.h5\")"
      ],
      "execution_count": null,
      "outputs": []
    },
    {
      "cell_type": "code",
      "source": [],
      "metadata": {
        "id": "bKFqWyKBb8fA"
      },
      "execution_count": null,
      "outputs": []
    }
  ]
}